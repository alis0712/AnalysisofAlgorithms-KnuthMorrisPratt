{
 "cells": [
  {
   "cell_type": "markdown",
   "id": "dfadf37e",
   "metadata": {},
   "source": [
    "# <u> Code Implementation</u>"
   ]
  },
  {
   "cell_type": "markdown",
   "id": "9858b552",
   "metadata": {},
   "source": [
    "## Program To Implement The KMP Algorithm In Python\n"
   ]
  },
  {
   "cell_type": "code",
   "execution_count": 8,
   "id": "eba89ecb",
   "metadata": {},
   "outputs": [],
   "source": [
    "import random\n",
    "import string\n",
    "import time"
   ]
  },
  {
   "cell_type": "markdown",
   "id": "5cea1ab6",
   "metadata": {},
   "source": [
    "## KMP Algorithm Implementation"
   ]
  },
  {
   "cell_type": "code",
   "execution_count": 21,
   "id": "8210b59e",
   "metadata": {},
   "outputs": [],
   "source": [
    "def KMP(Pattern, Chars):\n",
    "    start = time.time()\n",
    "   # compute the start position (number of characters)of the longest suffix that matches the prefix\n",
    "   # Then store prefix and the suffix into the list K, and then set the first element of K to be -1 and the second element to be 0\n",
    "    K = [] # K[n] store the value so that if the mismatch happens at n, it should move pattern Pattern K[n] characters ahead. \n",
    "    n = -1\n",
    "    K.append(n) #add the first element, and keep n = 0. \n",
    "    for k in range (1,len(Pattern) + 1):\n",
    "        \n",
    "        # traverse all the elements in Pattern, calculate the corresponding value for each element. \n",
    "        while(n >= 0 and Pattern[n] != Pattern[k - 1]): # if n = 1, if n >=1 and the current suffix does not match then try a shorter suffix\n",
    "            n = K[n]\n",
    "        n = n + 1 # if it matches, then the matching position should be one character ahead\n",
    "        K.append(n) #record the matching position for k\n",
    "    \n",
    "    #match the string Chars with Pattern\n",
    "    m = 0\n",
    "    for i in range(0, len(Chars)): #traverse through the list one by one\n",
    "        while(m >= 0 and Pattern[m] != Chars[i]): # if they do not match then move Pattern forward with K[m] characters and restart the comparison\n",
    "            m = K[m]\n",
    "        m = m + 1 #if position m matches, then move forward with the next position \n",
    "        if m == len(Pattern): # if m is already the end of K (or Pattern), then a fully matched pattern is found. Continue the comparison by moving Pattern forward K[m] characters\n",
    "            print(\"Pattern found at index:\", i - m + 1, i)\n",
    "            m = K[m]\n",
    "    \n",
    "    end = time.time()\n",
    "    print(\"Time taken to perform Knuth-Morris-Pratt Search:\", end - start)\n",
    "    \n",
    "            \n",
    "                    \n",
    "\t"
   ]
  },
  {
   "cell_type": "markdown",
   "id": "78083d06",
   "metadata": {},
   "source": [
    "# Brute-Force Algorithm Implementation"
   ]
  },
  {
   "cell_type": "code",
   "execution_count": 80,
   "id": "f18cfbed",
   "metadata": {},
   "outputs": [],
   "source": [
    "def bruteForce(Pattern, Chars):\n",
    "    start = time.time()\n",
    "     #get lengths of pattern and chars\n",
    "    M = len(Pattern)\n",
    "    N = len(Chars)\n",
    "    # go through the Pattern[]\n",
    "    for i in range(N - M + 1):\n",
    "        j = 0\n",
    "        # For current index i, check for pattern match\n",
    "        while(j < M):\n",
    "            if (Chars[i + j] != Pattern[j]):\n",
    "                break\n",
    "            j = j + 1\n",
    "\n",
    "        if (j == M):\n",
    "            print(\"Pattern found at index: \", i, i + j - 1)\n",
    "    \n",
    "    end = time.time()\n",
    "    print(\"Time taken to perform Naive Pattern Search:\", end - start)\n",
    "                "
   ]
  },
  {
   "cell_type": "markdown",
   "id": "63f009c0",
   "metadata": {},
   "source": [
    "# Random 1000 Letter Generation"
   ]
  },
  {
   "cell_type": "code",
   "execution_count": 87,
   "id": "2a9ed524",
   "metadata": {},
   "outputs": [
    {
     "name": "stdout",
     "output_type": "stream",
     "text": [
      "acacbbbcccbcacaaabcccacaccaaacaccabaaccaaabbbbaabbbcabbaaccaacbabcbcccccbbcabcacbbbbcbcccbccccabbabbaccacbbbacacbcbcbabcacbbbacbaabbaacccbcbbccccbbcabaccbcbcbccccaabbcbabbcbbaaaccabaabbbccaccaabaababaccccccabaccbccabaccacaacaacaabcbaccacbcacbcbabbaacabcccabccccccbbcccbccaacccbabbcbcbacccbbcbabcaccabbcaccaacabbbccbccabbbcbcabbcbcbaaacbbcabcaabcbbabaacbbbabccaabcaaacccbacaaabaabaabaacccccbabccbcbbbabccccaacbbabacbbaaccababcbbbbabbbaabaaabbaabccccbcaabcccbbaabbcbaabccbaacacbbbbaabacccccccbcbabcacaababcbcaacbbbabacccacbcbbcabcbccbabacabcaababbababacaaaccbaaaaaabacaaaaabcabacbbbcbbbaccbcaccbcabbbbccbcabbcacabcaaccbbababbbcbccaacbbbbbbaabcaaacaaacbbaaaccbcaaabaaaaccbbabccbcabbccabaaccabcacabaaaccaccabccacacbbbccabbbabbaacbacabccacaabbbbbabbcabbacccbbaabacabcbbaacaacaaabcbbbabaccacbbabbbacccaacaacabaaaccbbcbccbccabcbacbaaccaababcbabaccaabacbaaabcbaacbbcaabbaacbabaaccaaacbabaabbccbabacbccbccbacacbabcaaabbababbbbcacaccbabbbbccaccacccabbbbabcbabaacabbabaccacaabbcabbbbabbabbcbaabbcccbacabbccbbaba\n"
     ]
    }
   ],
   "source": [
    "letters = \"abc\"\n",
    "Chars = ''.join(random.choice(letters) for i in range(1000))\n",
    "print(Chars)\n",
    "Pattern = \"abcba\""
   ]
  },
  {
   "cell_type": "markdown",
   "id": "11e259a6",
   "metadata": {},
   "source": [
    "# Test"
   ]
  },
  {
   "cell_type": "code",
   "execution_count": 88,
   "id": "a2a6e819",
   "metadata": {},
   "outputs": [],
   "source": [
    "def main():\n",
    "        print(\"KMP Algorithm Results\")\n",
    "        KMP(Pattern, Chars)\n",
    "        print(\"\\n\")\n",
    "        print(\"Brute-Force Algorithm Results\")\n",
    "        bruteForce(Pattern, Chars)"
   ]
  },
  {
   "cell_type": "code",
   "execution_count": 89,
   "id": "644f1ff5",
   "metadata": {},
   "outputs": [
    {
     "name": "stdout",
     "output_type": "stream",
     "text": [
      "KMP Algorithm Results\n",
      "Pattern found at index: 228 232\n",
      "Pattern found at index: 817 821\n",
      "Pattern found at index: 831 835\n",
      "Pattern found at index: 848 852\n",
      "Pattern found at index: 943 947\n",
      "Time taken to perform Knuth-Morris-Pratt Search: 0.0010294914245605469\n",
      "\n",
      "\n",
      "Brute-Force Algorithm Results\n",
      "Pattern found at index:  228 232\n",
      "Pattern found at index:  817 821\n",
      "Pattern found at index:  831 835\n",
      "Pattern found at index:  848 852\n",
      "Pattern found at index:  943 947\n",
      "Time taken to perform Naive Pattern Search: 0.0019614696502685547\n"
     ]
    }
   ],
   "source": [
    "if __name__ == '__main__':\n",
    "    main()"
   ]
  }
 ],
 "metadata": {
  "kernelspec": {
   "display_name": "Python 3",
   "language": "python",
   "name": "python3"
  },
  "language_info": {
   "codemirror_mode": {
    "name": "ipython",
    "version": 3
   },
   "file_extension": ".py",
   "mimetype": "text/x-python",
   "name": "python",
   "nbconvert_exporter": "python",
   "pygments_lexer": "ipython3",
   "version": "3.8.8"
  }
 },
 "nbformat": 4,
 "nbformat_minor": 5
}
